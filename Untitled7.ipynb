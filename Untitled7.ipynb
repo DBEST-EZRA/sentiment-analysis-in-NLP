{
  "nbformat": 4,
  "nbformat_minor": 0,
  "metadata": {
    "colab": {
      "provenance": []
    },
    "kernelspec": {
      "name": "python3",
      "display_name": "Python 3"
    },
    "language_info": {
      "name": "python"
    }
  },
  "cells": [
    {
      "cell_type": "code",
      "execution_count": 1,
      "metadata": {
        "colab": {
          "base_uri": "https://localhost:8080/"
        },
        "id": "cFUnT4uBgpw7",
        "outputId": "413375ab-c5ea-4718-aefa-6a89286ef315"
      },
      "outputs": [
        {
          "output_type": "stream",
          "name": "stderr",
          "text": [
            "[nltk_data] Downloading package vader_lexicon to /root/nltk_data...\n"
          ]
        },
        {
          "output_type": "stream",
          "name": "stdout",
          "text": [
            "Enter a sentence (or type 'exit' to quit): I replaced the ScrolledText widget with a Treeview for better table display.\n",
            "Sentiment scores: {'neg': 0.0, 'neu': 0.756, 'pos': 0.244, 'compound': 0.4404}\n",
            "Sentiment Summary: Positive\n",
            "\n",
            "Enter a sentence (or type 'exit' to quit): I’m disappointed with the service. The wait time was too long, and the staff was unresponsive.\n",
            "Sentiment scores: {'neg': 0.171, 'neu': 0.829, 'pos': 0.0, 'compound': -0.4767}\n",
            "Sentiment Summary: Negative\n",
            "\n",
            "Enter a sentence (or type 'exit' to quit): The project was delayed due to poor communication, and the final result didn't meet our standards.\n",
            "Sentiment scores: {'neg': 0.263, 'neu': 0.737, 'pos': 0.0, 'compound': -0.6124}\n",
            "Sentiment Summary: Negative\n",
            "\n",
            "Enter a sentence (or type 'exit' to quit): exit\n",
            "Exiting...\n"
          ]
        }
      ],
      "source": [
        "import nltk\n",
        "from nltk.sentiment import SentimentIntensityAnalyzer\n",
        "\n",
        "# Download VADER lexicon for sentiment analysis\n",
        "nltk.download('vader_lexicon')\n",
        "\n",
        "# Initialize the VADER sentiment analyzer\n",
        "sia = SentimentIntensityAnalyzer()\n",
        "\n",
        "# Function to determine sentiment summary\n",
        "def get_sentiment_summary(sentiment_scores):\n",
        "    compound = sentiment_scores['compound']\n",
        "    if compound >= 0.05:\n",
        "        return \"Positive\"\n",
        "    elif compound <= -0.05:\n",
        "        return \"Negative\"\n",
        "    else:\n",
        "        return \"Neutral\"\n",
        "\n",
        "# Infinite loop to take user input and analyze sentiment\n",
        "while True:\n",
        "    # Take user input\n",
        "    text = input(\"Enter a sentence (or type 'exit' to quit): \")\n",
        "\n",
        "    # Exit condition\n",
        "    if text.lower() == \"exit\":\n",
        "        print(\"Exiting...\")\n",
        "        break\n",
        "\n",
        "    # Analyze the sentiment\n",
        "    sentiment = sia.polarity_scores(text)\n",
        "\n",
        "    # Print sentiment scores\n",
        "    print(f\"Sentiment scores: {sentiment}\")\n",
        "\n",
        "    # Print sentiment summary\n",
        "    summary = get_sentiment_summary(sentiment)\n",
        "    print(f\"Sentiment Summary: {summary}\\n\")"
      ]
    }
  ]
}